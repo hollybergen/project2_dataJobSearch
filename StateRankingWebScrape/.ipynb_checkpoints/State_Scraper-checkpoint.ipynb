{
 "cells": [
  {
   "cell_type": "code",
   "execution_count": 84,
   "metadata": {},
   "outputs": [],
   "source": [
    "from scraper import scrape\n",
    "import pprint\n",
    "import pandas as pd\n",
    "import csv\n",
    "import json"
   ]
  },
  {
   "cell_type": "code",
   "execution_count": 2,
   "metadata": {},
   "outputs": [
    {
     "name": "stderr",
     "output_type": "stream",
     "text": [
      "C:\\Users\\T430s\\Anaconda3\\lib\\site-packages\\ipykernel_launcher.py:2: ParserWarning: Falling back to the 'python' engine because the 'c' engine does not support regex separators (separators > 1 char and different from '\\s+' are interpreted as regex); you can avoid this warning by specifying engine='python'.\n",
      "  \n"
     ]
    }
   ],
   "source": [
    "# Use Pandas to read data\n",
    "states_pd = pd.read_csv(\"states.csv\", \"utf-8\")"
   ]
  },
  {
   "cell_type": "code",
   "execution_count": 3,
   "metadata": {},
   "outputs": [],
   "source": [
    "# Convert df to list\n",
    "states = states_pd['State_Name'].values.tolist()"
   ]
  },
  {
   "cell_type": "code",
   "execution_count": 4,
   "metadata": {},
   "outputs": [
    {
     "name": "stdout",
     "output_type": "stream",
     "text": [
      "['Alabama', 'Alaska', 'Arizona', 'Arkansas', 'California', 'Colorado', 'Connecticut', 'Delaware', 'Florida', 'Georgia', 'Hawaii', 'Idaho', 'Illinois', 'Indiana', 'Iowa', 'Kansas', 'Kentucky', 'Louisiana', 'Maine', 'Maryland', 'Massachusetts', 'Michigan', 'Minnesota', 'Mississippi', 'Missouri', 'Montana', 'Nebraska', 'Nevada', 'New Hampshire', 'New Jersey', 'New Mexico', 'New York', 'North Carolina', 'North Dakota', 'Ohio', 'Oklahoma', 'Oregon', 'Pennsylvania', 'Rhode Island', 'South Carolina', 'South Dakota', 'Tennessee', 'Texas', 'Utah', 'Vermont', 'Virginia', 'Washington', 'West Virginia', 'Wisconsin', 'Wyoming']\n"
     ]
    }
   ],
   "source": [
    "print(states)"
   ]
  },
  {
   "cell_type": "code",
   "execution_count": 5,
   "metadata": {},
   "outputs": [
    {
     "name": "stdout",
     "output_type": "stream",
     "text": [
      "['alabama', 'alaska', 'arizona', 'arkansas', 'california', 'colorado', 'connecticut', 'delaware', 'florida', 'georgia', 'hawaii', 'idaho', 'illinois', 'indiana', 'iowa', 'kansas', 'kentucky', 'louisiana', 'maine', 'maryland', 'massachusetts', 'michigan', 'minnesota', 'mississippi', 'missouri', 'montana', 'nebraska', 'nevada', 'new hampshire', 'new jersey', 'new mexico', 'new york', 'north carolina', 'north dakota', 'ohio', 'oklahoma', 'oregon', 'pennsylvania', 'rhode island', 'south carolina', 'south dakota', 'tennessee', 'texas', 'utah', 'vermont', 'virginia', 'washington', 'west virginia', 'wisconsin', 'wyoming']\n"
     ]
    }
   ],
   "source": [
    "# Convert list to lowercase values\n",
    "states_lower = []\n",
    "for state in states:\n",
    "    states_lower.append(state.lower())\n",
    "    \n",
    "print(states_lower)"
   ]
  },
  {
   "cell_type": "code",
   "execution_count": 6,
   "metadata": {},
   "outputs": [],
   "source": [
    "base_url = \"https://www.usnews.com/news/best-states/\""
   ]
  },
  {
   "cell_type": "code",
   "execution_count": null,
   "metadata": {},
   "outputs": [],
   "source": []
  },
  {
   "cell_type": "code",
   "execution_count": null,
   "metadata": {},
   "outputs": [],
   "source": []
  },
  {
   "cell_type": "code",
   "execution_count": null,
   "metadata": {},
   "outputs": [],
   "source": []
  },
  {
   "cell_type": "code",
   "execution_count": 7,
   "metadata": {},
   "outputs": [],
   "source": [
    "state = \"washington\""
   ]
  },
  {
   "cell_type": "code",
   "execution_count": 8,
   "metadata": {},
   "outputs": [],
   "source": [
    "state_scraped = scrape(base_url + state)"
   ]
  },
  {
   "cell_type": "code",
   "execution_count": 9,
   "metadata": {},
   "outputs": [],
   "source": [
    "# Save div as object to scrape & find area, gdp\n",
    "\n",
    "quick_stats0 = state_scraped.find(\"div\", class_=\"Cell-s1jgw6rh-0\").find(\"dl\", class_=\"QuickStats-s9hlu1u-0\")\n",
    "area = quick_stats0.dd.text\n",
    "gdp = quick_stats0.find_all(\"dd\")[1].text\n",
    "\n",
    "# Save div as object to scrape & find college educated & population\n",
    "quick_stats1 = state_scraped.find(\"div\", class_=\"Cell-s1jgw6rh-0\").find_all(\"dl\", class_=\"QuickStats-s9hlu1u-0\")[1]\n",
    "college_educated = quick_stats1.dd.text\n",
    "population = quick_stats1.find_all(\"dd\")[1].text\n",
    "\n",
    "# Save div as object to scrape & find median income\n",
    "quick_stats2 = state_scraped.find(\"div\", class_=\"Cell-s1jgw6rh-0\").find_all(\"dl\", class_=\"QuickStats-s9hlu1u-0\")[2]\n",
    "med_income = quick_stats2.find_all(\"dd\")[1].text"
   ]
  },
  {
   "cell_type": "code",
   "execution_count": 10,
   "metadata": {},
   "outputs": [
    {
     "name": "stdout",
     "output_type": "stream",
     "text": [
      "Area\n",
      "71,298 SQ. MI.\n",
      "College Educated\n",
      "46%\n",
      "Capital\n",
      "Olympia\n",
      "{'Area': ['71,298 SQ. MI.'], 'College Educated': ['46%'], 'Capital': ['Olympia']}\n"
     ]
    }
   ],
   "source": [
    "div = state_scraped.find(\"div\", class_=\"Grid-s1x0i6w9-0\").find_all(\"dl\", class_=\"QuickStats-s9hlu1u-0\")\n",
    "\n",
    "quick_stats = {}\n",
    "\n",
    "for d in div[:3]:\n",
    "    for i in d.dt:\n",
    "        print(i)\n",
    "        key = i\n",
    "    for i in d.dd:\n",
    "        print(i)\n",
    "        value = i\n",
    "    quick_stats[key] = [value]\n",
    "        \n",
    "print(quick_stats)"
   ]
  },
  {
   "cell_type": "code",
   "execution_count": 77,
   "metadata": {},
   "outputs": [
    {
     "name": "stdout",
     "output_type": "stream",
     "text": [
      "['Area', 'GDP', 'College Educated', 'Population', 'Capital', 'Median Income']\n",
      "['71,298 SQ. MI.', '$524.323 Billion', '46%', '7,405,743', 'Olympia', '$36,975']\n",
      "{'Area': '71,298 SQ. MI.', 'GDP': '$524.323 Billion', 'College Educated': '46%', 'Population': '7,405,743', 'Capital': 'Olympia', 'Median Income': '$36,975'}\n"
     ]
    }
   ],
   "source": [
    "div = state_scraped.find(\"div\", class_=\"Grid-s1x0i6w9-0\").find_all(\"dl\", class_=\"QuickStats-s9hlu1u-0\")\n",
    "\n",
    "quick_stats = {}\n",
    "\n",
    "list = []\n",
    "\n",
    "for d in div[:3]:\n",
    "    for i in d:\n",
    "        list.append(i.text)\n",
    "\n",
    "category = (list[::2])\n",
    "cat_value = (list[1::2])   \n",
    "\n",
    "print(category)\n",
    "print(cat_value)\n",
    "\n",
    "quick_stats_dict = dict(zip(category, cat_value))\n",
    "print(quick_stats_dict)"
   ]
  },
  {
   "cell_type": "code",
   "execution_count": 73,
   "metadata": {},
   "outputs": [
    {
     "name": "stdout",
     "output_type": "stream",
     "text": [
      "[0, 2, 4, 6, 8, 10]\n"
     ]
    }
   ],
   "source": [
    "category = []\n",
    "\n",
    "for i in range(0, len(list), 2):\n",
    "    category.append(i)\n",
    "    \n",
    "print(category)"
   ]
  },
  {
   "cell_type": "code",
   "execution_count": 46,
   "metadata": {},
   "outputs": [
    {
     "name": "stdout",
     "output_type": "stream",
     "text": [
      "<dl class=\"QuickStats-s9hlu1u-0 esdyci\"><dt>Area</dt><dd>71,298 SQ. MI.</dd><dt>GDP</dt><dd>$524.323 Billion</dd></dl>\n",
      "<dl class=\"QuickStats-s9hlu1u-0 esdyci\"><dt>College Educated</dt><dd>46%</dd><dt>Population</dt><dd>7,405,743</dd></dl>\n",
      "<dl class=\"QuickStats-s9hlu1u-0 esdyci\"><dt>Capital</dt><dd>Olympia</dd><dt>Median Income</dt><dd>$36,975</dd></dl>\n"
     ]
    }
   ],
   "source": [
    "div = state_scraped.find(\"div\", class_=\"Grid-s1x0i6w9-0 igMYg\").find_all(\"dl\", class_=\"QuickStats-s9hlu1u-0\")\n",
    "\n",
    "quick_stats = {}\n",
    "\n",
    "for d in div[:3]:\n",
    "    print(d)"
   ]
  },
  {
   "cell_type": "code",
   "execution_count": null,
   "metadata": {},
   "outputs": [],
   "source": []
  },
  {
   "cell_type": "code",
   "execution_count": null,
   "metadata": {},
   "outputs": [],
   "source": []
  },
  {
   "cell_type": "code",
   "execution_count": null,
   "metadata": {},
   "outputs": [],
   "source": []
  },
  {
   "cell_type": "code",
   "execution_count": 12,
   "metadata": {},
   "outputs": [
    {
     "name": "stdout",
     "output_type": "stream",
     "text": [
      "{'Area': ['71,298 SQ. MI.'], 'College Educated': ['46%'], 'Capital': ['Olympia']}\n"
     ]
    }
   ],
   "source": [
    "div = state_scraped.find(\"div\", class_=\"Grid-s1x0i6w9-0 igMYg\").find_all(\"dl\", class_=\"QuickStats-s9hlu1u-0\")\n",
    "\n",
    "quick_stats = {}\n",
    "\n",
    "for d in div:\n",
    "    #quick_stats.append(\"\")\n",
    "    key = d.dt.text\n",
    "    value = d.dd.text\n",
    "    quick_stats[key] = [value]\n",
    "    \n",
    "    \n",
    "print(quick_stats)"
   ]
  },
  {
   "cell_type": "code",
   "execution_count": null,
   "metadata": {},
   "outputs": [],
   "source": []
  },
  {
   "cell_type": "code",
   "execution_count": 90,
   "metadata": {},
   "outputs": [],
   "source": [
    "# Save new div as object to scrape & find rankings\n",
    "rankings = state_scraped.find(\"div\", class_=\"Cell-s1jgw6rh-0\")\n",
    "rank_list = rankings.find(\"ul\")\n",
    "\n",
    "# Save new div as object to scrape & find overall rating\n",
    "overall_rating  = rankings.find_all(\"div\", class_=\"DonutMeter__Wrapper-s1jo49pn-0 gNXJuS\")[0].text\n",
    "# Save as integer to be calculated\n",
    "overall_rating_num = int(overall_rating.replace(\"#\",\"\"))\n",
    "\n",
    "ranking_title = []\n",
    "rankings = []\n",
    "\n",
    "for list in rank_list:\n",
    "    ranking_title.append(list.find(\"span\").text)\n",
    "    rankings.append(list.find(\"b\").text)\n",
    "\n",
    "# Must remove # from each number & convert to int to perform calculations\n",
    "new_rankings = []\n",
    "\n",
    "for rank in rankings:\n",
    "    new_rankings.append(int(rank.replace(\"#\",\"\")))\n",
    "\n",
    "# Calculate \"rank\" into \"percentage\" \n",
    "perc_rankings = []\n",
    "for rank in new_rankings:\n",
    "    perc_rankings.append(100 - (rank/2))\n",
    "\n",
    "# Save ranking values into dataframe\n",
    "rankings_df = pd.DataFrame({'Category': ranking_title,\n",
    "                            'Rank' : rankings,\n",
    "                            'Value' : new_rankings,\n",
    "                            'Percentage': perc_rankings\n",
    "                           })\n",
    "\n",
    "# Convert to dictionary\n",
    "rankings_dict = rankings_df.to_dict('list')\n",
    "\n",
    "\n",
    "# Create new dictionary from all variables\n",
    "state_dict = {\n",
    "    \"Overall Rating\": overall_rating,\n",
    "    \"Overall Rating Number\": overall_rating_num,\n",
    "    \"State\": state,\n",
    "    \"Stats Dictionary\": quick_stats_dict,\n",
    "    \"Rank Dictionary\": new_df \n",
    "    }"
   ]
  },
  {
   "cell_type": "code",
   "execution_count": 82,
   "metadata": {},
   "outputs": [
    {
     "data": {
      "text/html": [
       "<div>\n",
       "<style scoped>\n",
       "    .dataframe tbody tr th:only-of-type {\n",
       "        vertical-align: middle;\n",
       "    }\n",
       "\n",
       "    .dataframe tbody tr th {\n",
       "        vertical-align: top;\n",
       "    }\n",
       "\n",
       "    .dataframe thead th {\n",
       "        text-align: right;\n",
       "    }\n",
       "</style>\n",
       "<table border=\"1\" class=\"dataframe\">\n",
       "  <thead>\n",
       "    <tr style=\"text-align: right;\">\n",
       "      <th></th>\n",
       "      <th>Category</th>\n",
       "      <th>Rank</th>\n",
       "      <th>Value</th>\n",
       "      <th>Percentage</th>\n",
       "    </tr>\n",
       "  </thead>\n",
       "  <tbody>\n",
       "    <tr>\n",
       "      <th>0</th>\n",
       "      <td>Health Care</td>\n",
       "      <td>#4</td>\n",
       "      <td>4</td>\n",
       "      <td>98.0</td>\n",
       "    </tr>\n",
       "    <tr>\n",
       "      <th>1</th>\n",
       "      <td>Education</td>\n",
       "      <td>#4</td>\n",
       "      <td>4</td>\n",
       "      <td>98.0</td>\n",
       "    </tr>\n",
       "    <tr>\n",
       "      <th>2</th>\n",
       "      <td>Economy</td>\n",
       "      <td>#3</td>\n",
       "      <td>3</td>\n",
       "      <td>98.5</td>\n",
       "    </tr>\n",
       "    <tr>\n",
       "      <th>3</th>\n",
       "      <td>Infrastructure</td>\n",
       "      <td>#2</td>\n",
       "      <td>2</td>\n",
       "      <td>99.0</td>\n",
       "    </tr>\n",
       "    <tr>\n",
       "      <th>4</th>\n",
       "      <td>Opportunity</td>\n",
       "      <td>#19</td>\n",
       "      <td>19</td>\n",
       "      <td>90.5</td>\n",
       "    </tr>\n",
       "    <tr>\n",
       "      <th>5</th>\n",
       "      <td>Fiscal Stability</td>\n",
       "      <td>#22</td>\n",
       "      <td>22</td>\n",
       "      <td>89.0</td>\n",
       "    </tr>\n",
       "    <tr>\n",
       "      <th>6</th>\n",
       "      <td>Crime &amp; Corrections</td>\n",
       "      <td>#15</td>\n",
       "      <td>15</td>\n",
       "      <td>92.5</td>\n",
       "    </tr>\n",
       "    <tr>\n",
       "      <th>7</th>\n",
       "      <td>Natural Environment</td>\n",
       "      <td>#14</td>\n",
       "      <td>14</td>\n",
       "      <td>93.0</td>\n",
       "    </tr>\n",
       "  </tbody>\n",
       "</table>\n",
       "</div>"
      ],
      "text/plain": [
       "               Category Rank  Value  Percentage\n",
       "0          Health Care    #4      4        98.0\n",
       "1            Education    #4      4        98.0\n",
       "2              Economy    #3      3        98.5\n",
       "3       Infrastructure    #2      2        99.0\n",
       "4          Opportunity   #19     19        90.5\n",
       "5     Fiscal Stability   #22     22        89.0\n",
       "6  Crime & Corrections   #15     15        92.5\n",
       "7  Natural Environment   #14     14        93.0"
      ]
     },
     "execution_count": 82,
     "metadata": {},
     "output_type": "execute_result"
    }
   ],
   "source": [
    "rankings_df"
   ]
  },
  {
   "cell_type": "code",
   "execution_count": 95,
   "metadata": {},
   "outputs": [
    {
     "data": {
      "text/plain": [
       "[{'Category': 'Education ', 'Rank': '#4', 'Value': 4, 'Percentage': 98.0},\n",
       " {'Category': 'Economy ', 'Rank': '#3', 'Value': 3, 'Percentage': 98.5},\n",
       " {'Category': 'Infrastructure ', 'Rank': '#2', 'Value': 2, 'Percentage': 99.0},\n",
       " {'Category': 'Opportunity ', 'Rank': '#19', 'Value': 19, 'Percentage': 90.5},\n",
       " {'Category': 'Fiscal Stability ',\n",
       "  'Rank': '#22',\n",
       "  'Value': 22,\n",
       "  'Percentage': 89.0},\n",
       " {'Category': 'Crime & Corrections ',\n",
       "  'Rank': '#15',\n",
       "  'Value': 15,\n",
       "  'Percentage': 92.5}]"
      ]
     },
     "execution_count": 95,
     "metadata": {},
     "output_type": "execute_result"
    }
   ],
   "source": [
    "new_df = rankings_df.to_dict(orient='records')[1:-1]\n",
    "new_df"
   ]
  },
  {
   "cell_type": "code",
   "execution_count": 96,
   "metadata": {},
   "outputs": [
    {
     "data": {
      "text/plain": [
       "{'Overall Rating': '#1',\n",
       " 'Overall Rating Number': 1,\n",
       " 'State': 'washington',\n",
       " 'Stats Dictionary': {'Area': '71,298 SQ. MI.',\n",
       "  'GDP': '$524.323 Billion',\n",
       "  'College Educated': '46%',\n",
       "  'Population': '7,405,743',\n",
       "  'Capital': 'Olympia',\n",
       "  'Median Income': '$36,975'},\n",
       " 'Rank Dictionary': '{\"Category\":\"Health Care \",\"Rank\":\"#4\",\"Value\":4,\"Percentage\":98.0} {\"Category\":\"Education \",\"Rank\":\"#4\",\"Value\":4,\"Percentage\":98.0} {\"Category\":\"Economy \",\"Rank\":\"#3\",\"Value\":3,\"Percentage\":98.5} {\"Category\":\"Infrastructure \",\"Rank\":\"#2\",\"Value\":2,\"Percentage\":99.0} {\"Category\":\"Opportunity \",\"Rank\":\"#19\",\"Value\":19,\"Percentage\":90.5} {\"Category\":\"Fiscal Stability \",\"Rank\":\"#22\",\"Value\":22,\"Percentage\":89.0} {\"Category\":\"Crime & Corrections \",\"Rank\":\"#15\",\"Value\":15,\"Percentage\":92.5} {\"Category\":\"Natural Environment \",\"Rank\":\"#14\",\"Value\":14,\"Percentage\":93.0}'}"
      ]
     },
     "execution_count": 96,
     "metadata": {},
     "output_type": "execute_result"
    }
   ],
   "source": [
    "state_dict"
   ]
  },
  {
   "cell_type": "code",
   "execution_count": 97,
   "metadata": {},
   "outputs": [],
   "source": [
    "with open('state_result.json', 'w') as fp:\n",
    "    json.dump(state_dict, fp)"
   ]
  },
  {
   "cell_type": "code",
   "execution_count": null,
   "metadata": {},
   "outputs": [],
   "source": []
  }
 ],
 "metadata": {
  "kernelspec": {
   "display_name": "Python 3",
   "language": "python",
   "name": "python3"
  },
  "language_info": {
   "codemirror_mode": {
    "name": "ipython",
    "version": 3
   },
   "file_extension": ".py",
   "mimetype": "text/x-python",
   "name": "python",
   "nbconvert_exporter": "python",
   "pygments_lexer": "ipython3",
   "version": "3.7.0"
  }
 },
 "nbformat": 4,
 "nbformat_minor": 2
}
