{
 "cells": [
  {
   "cell_type": "code",
   "execution_count": 1,
   "metadata": {},
   "outputs": [],
   "source": [
    "# Import Dependencies\n",
    "import json\n",
    "import mechanicalsoup\n",
    "import pymongo\n",
    "\n",
    "# setup mongodb connection\n",
    "conn = 'mongodb://localhost:27017'\n",
    "client = pymongo.MongoClient(conn)\n",
    "\n",
    "# select database\n",
    "db = client.project2\n",
    "\n",
    "browser = mechanicalsoup.StatefulBrowser()\n",
    "\n",
    "# test variables\n",
    "# search_job = ['data scientist', 'data engineer']\n",
    "# search_city = ['san diego', 'san francisco']\n",
    "\n",
    "# production variables\n",
    "search_job = ['data scientist', 'data engineer', 'data analyst', 'statistician', 'data & analytics manager']\n",
    "search_city = ['ann arbor', 'atlanta', 'austin', 'boston', 'charlotte', 'chicago', 'cincinnati', 'columbia', 'dallas', 'denver', 'houston', 'jacksonville', 'los angeles', 'louisville', 'miami', 'minneapolis', 'nashville', 'new york', 'newport news', 'phoenix', 'san diego', 'san francisco', 'seattle', 'virginia beach']"
   ]
  },
  {
   "cell_type": "markdown",
   "metadata": {},
   "source": [
    "# Job Count Scraper Function"
   ]
  },
  {
   "cell_type": "code",
   "execution_count": 2,
   "metadata": {},
   "outputs": [],
   "source": [
    "def jobCount(job, city):\n",
    "\n",
    "    try:\n",
    "        url = \"https://www.careerbuilder.com/insights\"\n",
    "\n",
    "        browser.open(url)\n",
    "        browser.select_form(\"input\")\n",
    "        browser.select_form('form[action=\"https://www.careerbuilder.com/jobs\"]')\n",
    "        browser[\"keywords\"] = job\n",
    "        browser[\"location\"] = city\n",
    "        response = browser.submit_selected()\n",
    "        soup = response.soup\n",
    "        count = soup.find(\"div\", class_=\"job-results\").find(\"div\", class_=\"count\").text.replace(\" Jobs\", \"\")\\\n",
    "        .replace(\"(\",\"\").replace(\")\",\"\")\n",
    "        count = int((count))\n",
    "    \n",
    "        return count\n",
    "    \n",
    "    except:\n",
    "        print(f'Error occurred for ' + job + \" in \" + city)\n",
    "        pass"
   ]
  },
  {
   "cell_type": "code",
   "execution_count": 3,
   "metadata": {},
   "outputs": [
    {
     "name": "stdout",
     "output_type": "stream",
     "text": [
      "Error occurred for data scientist in newport news\n",
      "Error occurred for data scientist in virginia beach\n",
      "Error occurred for statistician in columbia\n"
     ]
    }
   ],
   "source": [
    "# Run through loops & run function to get count of number of each job per city\n",
    "result_dict = {}\n",
    "\n",
    "for job in search_job:\n",
    "    # new dictionary for city\n",
    "    city_dict = {}\n",
    "    \n",
    "    for city in search_city:\n",
    "        # load to dictionary with city as the key\n",
    "        city_dict[city] = jobCount(job, city) #, careerInfo(job, city)\n",
    "        \n",
    "    # load to dictionary with job as the key\n",
    "    result_dict[job] = city_dict"
   ]
  },
  {
   "cell_type": "code",
   "execution_count": 4,
   "metadata": {},
   "outputs": [
    {
     "data": {
      "text/plain": [
       "<pymongo.results.UpdateResult at 0x211a9780f48>"
      ]
     },
     "execution_count": 4,
     "metadata": {},
     "output_type": "execute_result"
    }
   ],
   "source": [
    "# load geojson to mongodb\n",
    "db.job_counts.update_one({}, {'$set': result_dict}, upsert=True)"
   ]
  },
  {
   "cell_type": "code",
   "execution_count": null,
   "metadata": {},
   "outputs": [],
   "source": [
    "# Turn dictionary into JSON file\n",
    "# with open('job_counts.json', 'w') as fp:\n",
    "#     json.dump(result_dict, fp)"
   ]
  },
  {
   "cell_type": "code",
   "execution_count": null,
   "metadata": {},
   "outputs": [],
   "source": []
  }
 ],
 "metadata": {
  "kernelspec": {
   "display_name": "Python 3",
   "language": "python",
   "name": "python3"
  },
  "language_info": {
   "codemirror_mode": {
    "name": "ipython",
    "version": 3
   },
   "file_extension": ".py",
   "mimetype": "text/x-python",
   "name": "python",
   "nbconvert_exporter": "python",
   "pygments_lexer": "ipython3",
   "version": "3.6.6"
  }
 },
 "nbformat": 4,
 "nbformat_minor": 2
}
