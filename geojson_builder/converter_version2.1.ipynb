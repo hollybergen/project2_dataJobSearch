{
 "cells": [
  {
   "cell_type": "code",
   "execution_count": 1,
   "metadata": {},
   "outputs": [],
   "source": [
    "# imports and froms\n",
    "import json\n",
    "import pandas as pd\n",
    "import pymongo\n",
    "\n",
    "from geopy.geocoders import Nominatim\n",
    "\n",
    "# setup mongodb connection\n",
    "conn = 'mongodb://localhost:27017'\n",
    "client = pymongo.MongoClient(conn)\n",
    "\n",
    "# select database\n",
    "db = client.project2\n",
    "\n",
    "# object to retrieve latitude and longitude\n",
    "geolocator = Nominatim(country_bias='US', user_agent=\"job_coordinates\")\n",
    "\n",
    "# test variables\n",
    "# search_job = ['data scientist', 'data engineer']\n",
    "# search_city = ['san diego', 'san francisco']\n",
    "\n",
    "# production variables\n",
    "search_job = ['data scientist', 'data engineer', 'data analyst', 'statistician', 'data & analytics manager']\n",
    "search_city = ['ann arbor', 'atlanta', 'austin', 'boston', 'charlotte', 'chicago', 'cincinnati', 'columbia', 'dallas', 'denver', 'houston', 'jacksonville', 'los angeles', 'louisville', 'miami', 'minneapolis', 'nashville', 'new york', 'newport news', 'phoenix', 'san diego', 'san francisco', 'seattle', 'virginia beach']"
   ]
  },
  {
   "cell_type": "code",
   "execution_count": 2,
   "metadata": {},
   "outputs": [],
   "source": [
    "# build geojson base\n",
    "with open('job_income.json') as json_data:\n",
    "    dt = json.load(json_data)\n",
    "\n",
    "feature_list = []\n",
    "\n",
    "for city in search_city:\n",
    "    get_coords = geolocator.geocode(city)\n",
    "    lat = get_coords.latitude\n",
    "    lon = get_coords.longitude\n",
    "    feature_list.append({'type': 'Feature',\n",
    "                         'geometry': {\n",
    "                             'type': 'Point',\n",
    "                             'coordinates': [lon, lat]\n",
    "                         },\n",
    "                         'properties': {\n",
    "                             'title': city,\n",
    "                         }\n",
    "                        })"
   ]
  },
  {
   "cell_type": "code",
   "execution_count": 3,
   "metadata": {},
   "outputs": [],
   "source": [
    "# append title, job count, and salary to geojson\n",
    "with open('job_counts.json') as json_data:\n",
    "    data_jobs = json.load(json_data)\n",
    "\n",
    "for f in feature_list:\n",
    "    city = (f['properties']['title'])\n",
    "   \n",
    "    for key in data_jobs:\n",
    "        value = data_jobs[key]\n",
    "        f['properties'][key] = {'number_jobs': value[city],\n",
    "                               'avg_salary': dt[city][key]\n",
    "                               }"
   ]
  },
  {
   "cell_type": "code",
   "execution_count": 4,
   "metadata": {},
   "outputs": [],
   "source": [
    "# complete geojson\n",
    "geojson = {\n",
    "  'type': 'FeatureCollection',\n",
    "  'features': feature_list\n",
    "}"
   ]
  },
  {
   "cell_type": "code",
   "execution_count": 5,
   "metadata": {
    "scrolled": true
   },
   "outputs": [
    {
     "data": {
      "text/plain": [
       "<pymongo.results.UpdateResult at 0x297ab008bc8>"
      ]
     },
     "execution_count": 5,
     "metadata": {},
     "output_type": "execute_result"
    }
   ],
   "source": [
    "# load geojson to mongodb\n",
    "db.geojson.update_one({}, {'$set': geojson}, upsert=True)"
   ]
  },
  {
   "cell_type": "code",
   "execution_count": 6,
   "metadata": {},
   "outputs": [],
   "source": [
    "# save to json\n",
    "with open('city_jobs.geojson', 'w') as fp:\n",
    "    json.dump(geojson, fp)"
   ]
  },
  {
   "cell_type": "code",
   "execution_count": null,
   "metadata": {},
   "outputs": [],
   "source": []
  },
  {
   "cell_type": "code",
   "execution_count": null,
   "metadata": {},
   "outputs": [],
   "source": []
  },
  {
   "cell_type": "code",
   "execution_count": null,
   "metadata": {},
   "outputs": [],
   "source": []
  },
  {
   "cell_type": "code",
   "execution_count": null,
   "metadata": {},
   "outputs": [],
   "source": []
  }
 ],
 "metadata": {
  "kernelspec": {
   "display_name": "Python 3",
   "language": "python",
   "name": "python3"
  },
  "language_info": {
   "codemirror_mode": {
    "name": "ipython",
    "version": 3
   },
   "file_extension": ".py",
   "mimetype": "text/x-python",
   "name": "python",
   "nbconvert_exporter": "python",
   "pygments_lexer": "ipython3",
   "version": "3.6.6"
  }
 },
 "nbformat": 4,
 "nbformat_minor": 2
}
