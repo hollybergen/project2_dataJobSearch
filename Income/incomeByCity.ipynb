{
 "cells": [
  {
   "cell_type": "code",
   "execution_count": 12,
   "metadata": {},
   "outputs": [],
   "source": [
    "# imports and froms\n",
    "import pandas as pd\n",
    "import pymysql\n",
    "from sqlalchemy import create_engine\n",
    "pymysql.install_as_MySQLdb()"
   ]
  },
  {
   "cell_type": "code",
   "execution_count": 13,
   "metadata": {},
   "outputs": [
    {
     "data": {
      "text/html": [
       "<div>\n",
       "<style scoped>\n",
       "    .dataframe tbody tr th:only-of-type {\n",
       "        vertical-align: middle;\n",
       "    }\n",
       "\n",
       "    .dataframe tbody tr th {\n",
       "        vertical-align: top;\n",
       "    }\n",
       "\n",
       "    .dataframe thead th {\n",
       "        text-align: right;\n",
       "    }\n",
       "</style>\n",
       "<table border=\"1\" class=\"dataframe\">\n",
       "  <thead>\n",
       "    <tr style=\"text-align: right;\">\n",
       "      <th></th>\n",
       "      <th>State</th>\n",
       "      <th>State In.</th>\n",
       "      <th>City</th>\n",
       "      <th>Average</th>\n",
       "      <th>Median</th>\n",
       "      <th>Unnamed: 5</th>\n",
       "      <th>Unnamed: 6</th>\n",
       "    </tr>\n",
       "  </thead>\n",
       "  <tbody>\n",
       "    <tr>\n",
       "      <th>0</th>\n",
       "      <td>California</td>\n",
       "      <td>CA</td>\n",
       "      <td>San Francisco</td>\n",
       "      <td>$100,856.92</td>\n",
       "      <td>$84,786.00</td>\n",
       "      <td>NaN</td>\n",
       "      <td>NaN</td>\n",
       "    </tr>\n",
       "    <tr>\n",
       "      <th>1</th>\n",
       "      <td>California</td>\n",
       "      <td>CA</td>\n",
       "      <td>San Diego</td>\n",
       "      <td>$84,908.78</td>\n",
       "      <td>$75,188.00</td>\n",
       "      <td>NaN</td>\n",
       "      <td>NaN</td>\n",
       "    </tr>\n",
       "    <tr>\n",
       "      <th>2</th>\n",
       "      <td>California</td>\n",
       "      <td>CA</td>\n",
       "      <td>Los Angeles</td>\n",
       "      <td>$61,724.56</td>\n",
       "      <td>$39,202.50</td>\n",
       "      <td>NaN</td>\n",
       "      <td>NaN</td>\n",
       "    </tr>\n",
       "    <tr>\n",
       "      <th>3</th>\n",
       "      <td>New York</td>\n",
       "      <td>NY</td>\n",
       "      <td>New York</td>\n",
       "      <td>$88,873.63</td>\n",
       "      <td>$68,128.00</td>\n",
       "      <td>NaN</td>\n",
       "      <td>NaN</td>\n",
       "    </tr>\n",
       "    <tr>\n",
       "      <th>4</th>\n",
       "      <td>Massachusetts</td>\n",
       "      <td>MA</td>\n",
       "      <td>Boston</td>\n",
       "      <td>$78,482.50</td>\n",
       "      <td>$51,575.00</td>\n",
       "      <td>NaN</td>\n",
       "      <td>NaN</td>\n",
       "    </tr>\n",
       "  </tbody>\n",
       "</table>\n",
       "</div>"
      ],
      "text/plain": [
       "           State State In.           City      Average      Median  \\\n",
       "0     California        CA  San Francisco  $100,856.92  $84,786.00   \n",
       "1     California        CA      San Diego   $84,908.78  $75,188.00   \n",
       "2     California        CA    Los Angeles   $61,724.56  $39,202.50   \n",
       "3       New York        NY       New York   $88,873.63  $68,128.00   \n",
       "4  Massachusetts        MA         Boston   $78,482.50  $51,575.00   \n",
       "\n",
       "   Unnamed: 5  Unnamed: 6  \n",
       "0         NaN         NaN  \n",
       "1         NaN         NaN  \n",
       "2         NaN         NaN  \n",
       "3         NaN         NaN  \n",
       "4         NaN         NaN  "
      ]
     },
     "execution_count": 13,
     "metadata": {},
     "output_type": "execute_result"
    }
   ],
   "source": [
    "# load CSVs into dataframes\n",
    "income_csv = 'income.csv'\n",
    "income_df = pd.read_csv(income_csv, encoding = 'utf8')\n",
    "income_df.head()"
   ]
  },
  {
   "cell_type": "code",
   "execution_count": 14,
   "metadata": {},
   "outputs": [],
   "source": [
    "# income_df.drop(['id', 'State_Code', 'County', 'Place', 'Primary', 'Area_Code', 'ALand', 'AWater'], axis=1)"
   ]
  },
  {
   "cell_type": "code",
   "execution_count": 15,
   "metadata": {},
   "outputs": [],
   "source": [
    "host = '127.0.0.1' \n",
    "user = 'root'\n",
    "password = 'Bacon0531'\n",
    "db = 'income_db'\n",
    "charset = 'utf8'\n",
    "port = 3306\n",
    "cursorclass = pymysql.cursors.DictCursor"
   ]
  },
  {
   "cell_type": "code",
   "execution_count": 16,
   "metadata": {},
   "outputs": [],
   "source": [
    "connection = pymysql.connect(\n",
    "    host=host,\n",
    "    user=user,\n",
    "    password=password,\n",
    "    charset=charset,\n",
    "    cursorclass=cursorclass)\n",
    "cursor_object = connection.cursor()"
   ]
  },
  {
   "cell_type": "code",
   "execution_count": 17,
   "metadata": {},
   "outputs": [
    {
     "name": "stdout",
     "output_type": "stream",
     "text": [
      "{'Database': 'etl_db'}\n",
      "{'Database': 'income_db'}\n",
      "{'Database': 'information_schema'}\n",
      "{'Database': 'mysql'}\n",
      "{'Database': 'performance_schema'}\n",
      "{'Database': 'sys'}\n"
     ]
    },
    {
     "name": "stderr",
     "output_type": "stream",
     "text": [
      "/Users/mollyperlich/anaconda3/lib/python3.6/site-packages/pymysql/cursors.py:329: Warning: (1007, \"Can't create database 'income_db'; database exists\")\n",
      "  self._do_get_result()\n"
     ]
    }
   ],
   "source": [
    "# create database\n",
    "sql_create = (f'CREATE DATABASE IF NOT EXISTS {db}')  \n",
    "cursor_object.execute(sql_create)\n",
    "\n",
    "# show databases\n",
    "sql_query = 'SHOW DATABASES'\n",
    "cursor_object.execute(sql_query)\n",
    "db_list = cursor_object.fetchall()\n",
    "\n",
    "for database in db_list:\n",
    "    print(database)"
   ]
  },
  {
   "cell_type": "code",
   "execution_count": 18,
   "metadata": {},
   "outputs": [],
   "source": [
    "# reestablish pymysql connection with database specified\n",
    "connection = pymysql.connect(\n",
    "    host=host,\n",
    "    user=user,\n",
    "    password=password,\n",
    "    db=db, \n",
    "    charset=charset,\n",
    "    cursorclass=cursorclass)\n",
    "cursor_object = connection.cursor()"
   ]
  },
  {
   "cell_type": "code",
   "execution_count": 19,
   "metadata": {},
   "outputs": [
    {
     "name": "stdout",
     "output_type": "stream",
     "text": [
      "{'Tables_in_income_db': 'cities'}\n"
     ]
    },
    {
     "name": "stderr",
     "output_type": "stream",
     "text": [
      "/Users/mollyperlich/anaconda3/lib/python3.6/site-packages/pymysql/cursors.py:329: Warning: (1050, \"Table 'cities' already exists\")\n",
      "  self._do_get_result()\n"
     ]
    }
   ],
   "source": [
    "# create tables\n",
    "query_list = [\n",
    "    'CREATE TABLE IF NOT EXISTS cities(City VARCHAR(32), State VARCHAR(32), Mean INT, Median INT)'\n",
    "]\n",
    "\n",
    "for query in query_list:\n",
    "    cursor_object.execute(query)\n",
    "\n",
    "# show tables\n",
    "sql_query = 'SHOW TABLES'   \n",
    "cursor_object.execute(sql_query)\n",
    "rows = cursor_object.fetchall()\n",
    "\n",
    "for row in rows:\n",
    "    print(row)"
   ]
  },
  {
   "cell_type": "code",
   "execution_count": 20,
   "metadata": {},
   "outputs": [],
   "source": [
    "# establish sqlalchemy connection\n",
    "con = create_engine(f'mysql+pymysql://{user}:{password}@{host}:{port}/{db}?charset=utf8', echo=False)\n",
    "\n",
    "# load data into tables\n",
    "income_df.to_sql(name='cities', con=con, if_exists='replace', index=False)"
   ]
  },
  {
   "cell_type": "code",
   "execution_count": 21,
   "metadata": {},
   "outputs": [],
   "source": [
    "# reestablish pymysql connection after loading data\n",
    "connection = pymysql.connect(\n",
    "    host=host,\n",
    "    user=user,\n",
    "    password=password,\n",
    "    db=db, \n",
    "    charset=charset,\n",
    "    cursorclass=cursorclass)\n",
    "cursor_object = connection.cursor()\n",
    "\n",
    "# # show data in tables\n",
    "# query_list = [\n",
    "#     'SELECT * FROM cities LIMIT 10',\n",
    "# ]\n",
    "\n",
    "# for query in query_list:\n",
    "#     cursor_object.execute(query)\n",
    "#     rows = cursor_object.fetchall()\n",
    "\n",
    "#     for row in rows:\n",
    "#         print(row)\n",
    "        \n",
    "#     print(end='\\n')"
   ]
  },
  {
   "cell_type": "code",
   "execution_count": 22,
   "metadata": {},
   "outputs": [],
   "source": [
    "# terminate pymysql connection\n",
    "connection.close()"
   ]
  },
  {
   "cell_type": "code",
   "execution_count": null,
   "metadata": {},
   "outputs": [],
   "source": []
  }
 ],
 "metadata": {
  "kernelspec": {
   "display_name": "Python 3",
   "language": "python",
   "name": "python3"
  },
  "language_info": {
   "codemirror_mode": {
    "name": "ipython",
    "version": 3
   },
   "file_extension": ".py",
   "mimetype": "text/x-python",
   "name": "python",
   "nbconvert_exporter": "python",
   "pygments_lexer": "ipython3",
   "version": "3.6.8"
  }
 },
 "nbformat": 4,
 "nbformat_minor": 2
}
