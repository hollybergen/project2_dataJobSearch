{
 "cells": [
  {
   "cell_type": "code",
   "execution_count": 15,
   "metadata": {},
   "outputs": [],
   "source": [
    "# imports and froms\n",
    "import pandas as pd\n",
    "import pymysql\n",
    "from sqlalchemy import create_engine\n",
    "pymysql.install_as_MySQLdb()"
   ]
  },
  {
   "cell_type": "code",
   "execution_count": 16,
   "metadata": {},
   "outputs": [
    {
     "data": {
      "text/html": [
       "<div>\n",
       "<style scoped>\n",
       "    .dataframe tbody tr th:only-of-type {\n",
       "        vertical-align: middle;\n",
       "    }\n",
       "\n",
       "    .dataframe tbody tr th {\n",
       "        vertical-align: top;\n",
       "    }\n",
       "\n",
       "    .dataframe thead th {\n",
       "        text-align: right;\n",
       "    }\n",
       "</style>\n",
       "<table border=\"1\" class=\"dataframe\">\n",
       "  <thead>\n",
       "    <tr style=\"text-align: right;\">\n",
       "      <th></th>\n",
       "      <th>State</th>\n",
       "      <th>State In.</th>\n",
       "      <th>City</th>\n",
       "      <th>Average Income</th>\n",
       "      <th>Median Income</th>\n",
       "      <th>Population</th>\n",
       "      <th>Median Housing Price</th>\n",
       "      <th>Data Scientist Average Salary</th>\n",
       "      <th>Data Engineer Average Salary</th>\n",
       "      <th>Unnamed: 9</th>\n",
       "      <th>Data Analyst Average Salary</th>\n",
       "      <th>Statistician Average Salary</th>\n",
       "      <th>Data &amp; Analytics Manager Average Salary</th>\n",
       "    </tr>\n",
       "  </thead>\n",
       "  <tbody>\n",
       "    <tr>\n",
       "      <th>0</th>\n",
       "      <td>California</td>\n",
       "      <td>CA</td>\n",
       "      <td>San Francisco</td>\n",
       "      <td>$100,856.92</td>\n",
       "      <td>$84,786.00</td>\n",
       "      <td>884,000</td>\n",
       "      <td>$1,357,000.00</td>\n",
       "      <td>$130,000.00</td>\n",
       "      <td>$120,000.00</td>\n",
       "      <td>San Francisco</td>\n",
       "      <td>$80,000.00</td>\n",
       "      <td>$92,500.00</td>\n",
       "      <td>$130,000.00</td>\n",
       "    </tr>\n",
       "    <tr>\n",
       "      <th>1</th>\n",
       "      <td>California</td>\n",
       "      <td>CA</td>\n",
       "      <td>San Diego</td>\n",
       "      <td>$84,908.78</td>\n",
       "      <td>$75,188.00</td>\n",
       "      <td>1,420,000</td>\n",
       "      <td>$633,600.00</td>\n",
       "      <td>$115,000.00</td>\n",
       "      <td>$97,400.00</td>\n",
       "      <td>San Diego</td>\n",
       "      <td>$60,000.00</td>\n",
       "      <td>$85,900.00</td>\n",
       "      <td>$122,000.00</td>\n",
       "    </tr>\n",
       "    <tr>\n",
       "      <th>2</th>\n",
       "      <td>California</td>\n",
       "      <td>CA</td>\n",
       "      <td>Los Angeles</td>\n",
       "      <td>$61,724.56</td>\n",
       "      <td>$39,202.50</td>\n",
       "      <td>4,000,000</td>\n",
       "      <td>$686,100.00</td>\n",
       "      <td>$115,000.00</td>\n",
       "      <td>$107,000.00</td>\n",
       "      <td>Los Angeles</td>\n",
       "      <td>$65,000.00</td>\n",
       "      <td>$81,000.00</td>\n",
       "      <td>$107,000.00</td>\n",
       "    </tr>\n",
       "    <tr>\n",
       "      <th>3</th>\n",
       "      <td>New York</td>\n",
       "      <td>NY</td>\n",
       "      <td>New York</td>\n",
       "      <td>$88,873.63</td>\n",
       "      <td>$68,128.00</td>\n",
       "      <td>8,600,000</td>\n",
       "      <td>$677,000.00</td>\n",
       "      <td>$110,000.00</td>\n",
       "      <td>$105,000.00</td>\n",
       "      <td>New York</td>\n",
       "      <td>$65,000.00</td>\n",
       "      <td>$90,000.00</td>\n",
       "      <td>$108,000.00</td>\n",
       "    </tr>\n",
       "    <tr>\n",
       "      <th>4</th>\n",
       "      <td>Massachusetts</td>\n",
       "      <td>MA</td>\n",
       "      <td>Boston</td>\n",
       "      <td>$78,482.50</td>\n",
       "      <td>$51,575.00</td>\n",
       "      <td>685,000</td>\n",
       "      <td>$599,000.00</td>\n",
       "      <td>$106,000.00</td>\n",
       "      <td>$90,000.00</td>\n",
       "      <td>Boston</td>\n",
       "      <td>$64,000.00</td>\n",
       "      <td>$70,000.00</td>\n",
       "      <td>$104,000.00</td>\n",
       "    </tr>\n",
       "  </tbody>\n",
       "</table>\n",
       "</div>"
      ],
      "text/plain": [
       "           State State In.           City  Average Income  Median Income  \\\n",
       "0     California        CA  San Francisco     $100,856.92     $84,786.00   \n",
       "1     California        CA      San Diego      $84,908.78     $75,188.00   \n",
       "2     California        CA    Los Angeles      $61,724.56     $39,202.50   \n",
       "3       New York        NY       New York      $88,873.63     $68,128.00   \n",
       "4  Massachusetts        MA         Boston      $78,482.50     $51,575.00   \n",
       "\n",
       "  Population Median Housing Price Data Scientist Average Salary  \\\n",
       "0    884,000        $1,357,000.00                   $130,000.00   \n",
       "1  1,420,000          $633,600.00                   $115,000.00   \n",
       "2  4,000,000          $686,100.00                   $115,000.00   \n",
       "3  8,600,000          $677,000.00                   $110,000.00   \n",
       "4    685,000          $599,000.00                   $106,000.00   \n",
       "\n",
       "  Data Engineer Average Salary     Unnamed: 9 Data Analyst Average Salary  \\\n",
       "0                  $120,000.00  San Francisco                  $80,000.00   \n",
       "1                   $97,400.00      San Diego                  $60,000.00   \n",
       "2                  $107,000.00    Los Angeles                  $65,000.00   \n",
       "3                  $105,000.00       New York                  $65,000.00   \n",
       "4                   $90,000.00         Boston                  $64,000.00   \n",
       "\n",
       "  Statistician Average Salary Data & Analytics Manager Average Salary  \n",
       "0                  $92,500.00                             $130,000.00  \n",
       "1                  $85,900.00                             $122,000.00  \n",
       "2                  $81,000.00                             $107,000.00  \n",
       "3                  $90,000.00                             $108,000.00  \n",
       "4                  $70,000.00                             $104,000.00  "
      ]
     },
     "execution_count": 16,
     "metadata": {},
     "output_type": "execute_result"
    }
   ],
   "source": [
    "# load CSVs into dataframes\n",
    "income_csv = 'income.csv'\n",
    "income_df = pd.read_csv(income_csv, encoding = 'utf8')\n",
    "income_df.head()"
   ]
  },
  {
   "cell_type": "code",
   "execution_count": 14,
   "metadata": {},
   "outputs": [],
   "source": [
    "# income_df.drop(['id', 'State_Code', 'County', 'Place', 'Primary', 'Area_Code', 'ALand', 'AWater'], axis=1)"
   ]
  },
  {
   "cell_type": "code",
   "execution_count": 4,
   "metadata": {},
   "outputs": [],
   "source": [
    "host = '127.0.0.1' \n",
    "user = 'root'\n",
    "password = 'Bacon0531'\n",
    "db = 'income_db'\n",
    "charset = 'utf8'\n",
    "port = 3306\n",
    "cursorclass = pymysql.cursors.DictCursor"
   ]
  },
  {
   "cell_type": "code",
   "execution_count": 5,
   "metadata": {},
   "outputs": [],
   "source": [
    "connection = pymysql.connect(\n",
    "    host=host,\n",
    "    user=user,\n",
    "    password=password,\n",
    "    charset=charset,\n",
    "    cursorclass=cursorclass)\n",
    "cursor_object = connection.cursor()"
   ]
  },
  {
   "cell_type": "code",
   "execution_count": 6,
   "metadata": {},
   "outputs": [
    {
     "name": "stdout",
     "output_type": "stream",
     "text": [
      "{'Database': 'etl_db'}\n",
      "{'Database': 'income_db'}\n",
      "{'Database': 'information_schema'}\n",
      "{'Database': 'mysql'}\n",
      "{'Database': 'performance_schema'}\n",
      "{'Database': 'sys'}\n"
     ]
    },
    {
     "name": "stderr",
     "output_type": "stream",
     "text": [
      "/Users/mollyperlich/anaconda3/lib/python3.6/site-packages/pymysql/cursors.py:329: Warning: (1007, \"Can't create database 'income_db'; database exists\")\n",
      "  self._do_get_result()\n"
     ]
    }
   ],
   "source": [
    "# create database\n",
    "sql_create = (f'CREATE DATABASE IF NOT EXISTS {db}')  \n",
    "cursor_object.execute(sql_create)\n",
    "\n",
    "# show databases\n",
    "sql_query = 'SHOW DATABASES'\n",
    "cursor_object.execute(sql_query)\n",
    "db_list = cursor_object.fetchall()\n",
    "\n",
    "for database in db_list:\n",
    "    print(database)"
   ]
  },
  {
   "cell_type": "code",
   "execution_count": 7,
   "metadata": {},
   "outputs": [],
   "source": [
    "# reestablish pymysql connection with database specified\n",
    "connection = pymysql.connect(\n",
    "    host=host,\n",
    "    user=user,\n",
    "    password=password,\n",
    "    db=db, \n",
    "    charset=charset,\n",
    "    cursorclass=cursorclass)\n",
    "cursor_object = connection.cursor()"
   ]
  },
  {
   "cell_type": "code",
   "execution_count": 8,
   "metadata": {},
   "outputs": [
    {
     "name": "stdout",
     "output_type": "stream",
     "text": [
      "{'Tables_in_income_db': 'cities'}\n"
     ]
    },
    {
     "name": "stderr",
     "output_type": "stream",
     "text": [
      "/Users/mollyperlich/anaconda3/lib/python3.6/site-packages/pymysql/cursors.py:329: Warning: (1050, \"Table 'cities' already exists\")\n",
      "  self._do_get_result()\n"
     ]
    }
   ],
   "source": [
    "# create tables\n",
    "query_list = [\n",
    "    'CREATE TABLE IF NOT EXISTS cities(City VARCHAR(32), State VARCHAR(32), Mean INT, Median INT)'\n",
    "]\n",
    "\n",
    "for query in query_list:\n",
    "    cursor_object.execute(query)\n",
    "\n",
    "# show tables\n",
    "sql_query = 'SHOW TABLES'   \n",
    "cursor_object.execute(sql_query)\n",
    "rows = cursor_object.fetchall()\n",
    "\n",
    "for row in rows:\n",
    "    print(row)"
   ]
  },
  {
   "cell_type": "code",
   "execution_count": 9,
   "metadata": {},
   "outputs": [
    {
     "ename": "NameError",
     "evalue": "name 'income_df' is not defined",
     "output_type": "error",
     "traceback": [
      "\u001b[0;31m---------------------------------------------------------------------------\u001b[0m",
      "\u001b[0;31mNameError\u001b[0m                                 Traceback (most recent call last)",
      "\u001b[0;32m<ipython-input-9-07c3b79528a6>\u001b[0m in \u001b[0;36m<module>\u001b[0;34m()\u001b[0m\n\u001b[1;32m      3\u001b[0m \u001b[0;34m\u001b[0m\u001b[0m\n\u001b[1;32m      4\u001b[0m \u001b[0;31m# load data into tables\u001b[0m\u001b[0;34m\u001b[0m\u001b[0;34m\u001b[0m\u001b[0;34m\u001b[0m\u001b[0m\n\u001b[0;32m----> 5\u001b[0;31m \u001b[0mincome_df\u001b[0m\u001b[0;34m.\u001b[0m\u001b[0mto_sql\u001b[0m\u001b[0;34m(\u001b[0m\u001b[0mname\u001b[0m\u001b[0;34m=\u001b[0m\u001b[0;34m'cities'\u001b[0m\u001b[0;34m,\u001b[0m \u001b[0mcon\u001b[0m\u001b[0;34m=\u001b[0m\u001b[0mcon\u001b[0m\u001b[0;34m,\u001b[0m \u001b[0mif_exists\u001b[0m\u001b[0;34m=\u001b[0m\u001b[0;34m'replace'\u001b[0m\u001b[0;34m,\u001b[0m \u001b[0mindex\u001b[0m\u001b[0;34m=\u001b[0m\u001b[0;32mFalse\u001b[0m\u001b[0;34m)\u001b[0m\u001b[0;34m\u001b[0m\u001b[0;34m\u001b[0m\u001b[0m\n\u001b[0m",
      "\u001b[0;31mNameError\u001b[0m: name 'income_df' is not defined"
     ]
    }
   ],
   "source": [
    "# establish sqlalchemy connection\n",
    "con = create_engine(f'mysql+pymysql://{user}:{password}@{host}:{port}/{db}?charset=utf8', echo=False)\n",
    "\n",
    "# load data into tables\n",
    "income_df.to_sql(name='cities', con=con, if_exists='replace', index=False)"
   ]
  },
  {
   "cell_type": "code",
   "execution_count": 10,
   "metadata": {},
   "outputs": [],
   "source": [
    "# reestablish pymysql connection after loading data\n",
    "connection = pymysql.connect(\n",
    "    host=host,\n",
    "    user=user,\n",
    "    password=password,\n",
    "    db=db, \n",
    "    charset=charset,\n",
    "    cursorclass=cursorclass)\n",
    "cursor_object = connection.cursor()\n",
    "\n",
    "# # show data in tables\n",
    "# query_list = [\n",
    "#     'SELECT * FROM cities LIMIT 10',\n",
    "# ]\n",
    "\n",
    "# for query in query_list:\n",
    "#     cursor_object.execute(query)\n",
    "#     rows = cursor_object.fetchall()\n",
    "\n",
    "#     for row in rows:\n",
    "#         print(row)\n",
    "        \n",
    "#     print(end='\\n')"
   ]
  },
  {
   "cell_type": "code",
   "execution_count": 11,
   "metadata": {},
   "outputs": [],
   "source": [
    "# terminate pymysql connection\n",
    "connection.close()"
   ]
  },
  {
   "cell_type": "code",
   "execution_count": null,
   "metadata": {},
   "outputs": [],
   "source": []
  }
 ],
 "metadata": {
  "kernelspec": {
   "display_name": "Python 3",
   "language": "python",
   "name": "python3"
  },
  "language_info": {
   "codemirror_mode": {
    "name": "ipython",
    "version": 3
   },
   "file_extension": ".py",
   "mimetype": "text/x-python",
   "name": "python",
   "nbconvert_exporter": "python",
   "pygments_lexer": "ipython3",
   "version": "3.6.8"
  }
 },
 "nbformat": 4,
 "nbformat_minor": 2
}
