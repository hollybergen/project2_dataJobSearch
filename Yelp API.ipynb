{
 "cells": [
  {
   "cell_type": "code",
   "execution_count": null,
   "metadata": {},
   "outputs": [],
   "source": [
    "# imports and froms\n",
    "import _config\n",
    "import matplotlib.pyplot as plt\n",
    "import pandas as pd\n",
    "from yelpapi import YelpAPI\n",
    "\n",
    "# declare variables\n",
    "all_results = pd.DataFrame()\n",
    "yelp_api = YelpAPI(_config.api_key_yelp)\n",
    "\n",
    "# define a function\n",
    "def get_locations(zipcode_list):\n",
    "    all_results = pd.DataFrame()\n",
    "    print(f'Running loop.... This may take some time.')\n",
    "    for zipcode in zipcode_list:\n",
    "        try:\n",
    "            single_zipcode = yelp_api.search_query(location=zipcode, radius=4800, term='dental, dentist, dentistry')\n",
    "            all_results = all_results.append(single_zipcode['businesses'])\n",
    "            print(zipcode)\n",
    "        except:\n",
    "            print(f'{zipcode}....404')\n",
    "    all_results = all_results.drop_duplicates(subset='id')\n",
    "    all_results.to_csv((f'{zipcode_list[0]}processed.csv'), header=1, index=False)\n",
    "    return(all_results)\n",
    "\n",
    "# read a csv of zip codes into a dataframe and pass it to the function\n",
    "zipcode_csv = pd.read_csv(\"static/data/zipcode.csv\")\n",
    "zipcode_df = get_locations(zipcode_csv['zip'])"
   ]
  }
 ],
 "metadata": {
  "kernelspec": {
   "display_name": "Python 3",
   "language": "python",
   "name": "python3"
  },
  "language_info": {
   "codemirror_mode": {
    "name": "ipython",
    "version": 3
   },
   "file_extension": ".py",
   "mimetype": "text/x-python",
   "name": "python",
   "nbconvert_exporter": "python",
   "pygments_lexer": "ipython3",
   "version": "3.6.6"
  }
 },
 "nbformat": 4,
 "nbformat_minor": 2
}
