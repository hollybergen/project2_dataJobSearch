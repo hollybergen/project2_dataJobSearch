{
 "cells": [
  {
   "cell_type": "code",
   "execution_count": 19,
   "metadata": {},
   "outputs": [],
   "source": [
    "import csv\n",
    "import pandas as pd"
   ]
  },
  {
   "cell_type": "code",
   "execution_count": 20,
   "metadata": {},
   "outputs": [
    {
     "name": "stdout",
     "output_type": "stream",
     "text": [
      "San Francisco $130,000.00\n",
      "San Diego $115,000.00\n",
      "Los Angeles $115,000.00\n",
      "New York $110,000.00\n",
      "Boston $106,000.00\n",
      "Ann Arbor $98,300.00\n",
      "Austin $98,500.00\n",
      "Dallas $95,000.00\n",
      "Houston $105,000.00\n",
      "Denver $100,000.00\n",
      "Chicago $95,000.00\n",
      "Seattle $120,000.00\n",
      "Columbia $84,400.00\n",
      "Virginia Beach $105,000.00\n",
      "Charlotte $92,500.00\n",
      "Nashville $100,000.00\n",
      "Cincinnati $91,300.00\n",
      "Louisville $98,200.00\n",
      "Minneapolis $91,500.00\n",
      "Jacksonville $105,000.00\n",
      "Miami $93,200.00\n",
      "Atlanta $96,000.00\n",
      "Newport News $105,000.00\n",
      "Phoenix $95,000.00\n"
     ]
    }
   ],
   "source": [
    "with open('income.csv', newline='') as csvfile:\n",
    "    reader = csv.DictReader(csvfile)\n",
    "    for row in reader:\n",
    "        print(row['City'], row['Data Scientist Average Salary'])"
   ]
  },
  {
   "cell_type": "code",
   "execution_count": 21,
   "metadata": {},
   "outputs": [
    {
     "name": "stdout",
     "output_type": "stream",
     "text": [
      "\u001b[H\u001b[2J"
     ]
    }
   ],
   "source": [
    "clear"
   ]
  },
  {
   "cell_type": "code",
   "execution_count": 31,
   "metadata": {},
   "outputs": [
    {
     "name": "stdout",
     "output_type": "stream",
     "text": [
      "[('City', 'Data Scientist Average Salary'), ('San Francisco', '$130,000.00'), ('San Diego', '$115,000.00'), ('Los Angeles', '$115,000.00'), ('New York', '$110,000.00'), ('Boston', '$106,000.00'), ('Ann Arbor', '$98,300.00'), ('Austin', '$98,500.00'), ('Dallas', '$95,000.00'), ('Houston', '$105,000.00'), ('Denver', '$100,000.00'), ('Chicago', '$95,000.00'), ('Seattle', '$120,000.00'), ('Columbia', '$84,400.00'), ('Virginia Beach', '$105,000.00'), ('Charlotte', '$92,500.00'), ('Nashville', '$100,000.00'), ('Cincinnati', '$91,300.00'), ('Louisville', '$98,200.00'), ('Minneapolis', '$91,500.00'), ('Jacksonville', '$105,000.00'), ('Miami', '$93,200.00'), ('Atlanta', '$96,000.00'), ('Newport News', '$105,000.00'), ('Phoenix', '$95,000.00')]\n"
     ]
    }
   ],
   "source": [
    "#DATA SCIENTIST AVERAGE SALARY:\n",
    "\n",
    "import csv\n",
    "\n",
    "file_name = \"income.csv\"\n",
    "try:\n",
    "    csvfile = open(file_name, 'rt')\n",
    "except:\n",
    "    print(\"File not found\")\n",
    "csvReader = csv.reader(csvfile, delimiter=\",\")\n",
    "d = dict()\n",
    "l =  list()\n",
    "for row in csvReader:\n",
    "    d[row[2]] = row[0]\n",
    "    d[row[7]] = row[1]\n",
    "    l.append((row[2], row[7]))\n",
    "#print(d)\n",
    "print(l)"
   ]
  },
  {
   "cell_type": "code",
   "execution_count": 30,
   "metadata": {},
   "outputs": [
    {
     "name": "stdout",
     "output_type": "stream",
     "text": [
      "[('City', 'Data Engineer Average Salary'), ('San Francisco', '$120,000.00'), ('San Diego', '$97,400.00'), ('Los Angeles', '$107,000.00'), ('New York', '$105,000.00'), ('Boston', '$90,000.00'), ('Ann Arbor', '$86,500.00'), ('Austin', '$96,000.00'), ('Dallas', '$85,700.00'), ('Houston', '$84,500.00'), ('Denver', '$87,800.00'), ('Chicago', '$81,000.00'), ('Seattle', '$113,000.00'), ('Columbia', '$75,600.00'), ('Virginia Beach', '$97,400.00'), ('Charlotte', '$60,300.00'), ('Nashville', '$88,000.00'), ('Cincinnati', '$79,800.00'), ('Louisville', '$79,800.00'), ('Minneapolis', '$84,800.00'), ('Jacksonville', '$97,400.00'), ('Miami', '$97,400.00'), ('Atlanta', '$82,000.00'), ('Newport News', '$97,400.00'), ('Phoenix', '$87,000.00')]\n"
     ]
    }
   ],
   "source": [
    "#DATA ENGINEER AVERAGE SALARY\n",
    "\n",
    "import csv\n",
    "\n",
    "file_name = \"income.csv\"\n",
    "try:\n",
    "    csvfile = open(file_name, 'rt')\n",
    "except:\n",
    "    print(\"File not found\")\n",
    "csvReader = csv.reader(csvfile, delimiter=\",\")\n",
    "d = dict()\n",
    "l =  list()\n",
    "for row in csvReader:\n",
    "    d[row[2]] = row[0]\n",
    "    d[row[8]] = row[1]\n",
    "    l.append((row[2], row[8]))\n",
    "#print(d)\n",
    "print(l)"
   ]
  },
  {
   "cell_type": "code",
   "execution_count": 33,
   "metadata": {},
   "outputs": [
    {
     "name": "stdout",
     "output_type": "stream",
     "text": [
      "[('City', 'Data Analyst Average Salary'), ('San Francisco', '$80,000.00'), ('San Diego', '$60,000.00'), ('Los Angeles', '$65,000.00'), ('New York', '$65,000.00'), ('Boston', '$64,000.00'), ('Ann Arbor', '$57,000.00'), ('Austin', '$60,000.00'), ('Dallas', '$64,500.00'), ('Houston', '$60,000.00'), ('Denver', '$63,000.00'), ('Chicago', '$60,000.00'), ('Seattle', '$67,500.00'), ('Columbia', '$44,500.00'), ('Virginia Beach', '$60,000.00'), ('Charlotte', '$62,400.00'), ('Nashville', '$55,500.00'), ('Cincinnati', '$50,000.00'), ('Louisville', '$53,000.00'), ('Minneapolis', '$65,000.00'), ('Jacksonville', '$55,000.00'), ('Miami', '$54,800.00'), ('Atlanta', '$61,500.00'), ('Newport News', '$60,000.00'), ('Phoenix', '$58,100.00')]\n"
     ]
    }
   ],
   "source": [
    "#DATA ANALYST AVERAGE SALARY:\n",
    "\n",
    "import csv\n",
    "\n",
    "file_name = \"income.csv\"\n",
    "try:\n",
    "    csvfile = open(file_name, 'rt')\n",
    "except:\n",
    "    print(\"File not found\")\n",
    "csvReader = csv.reader(csvfile, delimiter=\",\")\n",
    "d = dict()\n",
    "l =  list()\n",
    "for row in csvReader:\n",
    "    d[row[2]] = row[0]\n",
    "    d[row[7]] = row[1]\n",
    "    l.append((row[2], row[10]))\n",
    "#print(d)\n",
    "print(l)"
   ]
  },
  {
   "cell_type": "code",
   "execution_count": 34,
   "metadata": {},
   "outputs": [
    {
     "name": "stdout",
     "output_type": "stream",
     "text": [
      "[('City', 'Statistician Average Salary'), ('San Francisco', '$92,500.00'), ('San Diego', '$85,900.00'), ('Los Angeles', '$81,000.00'), ('New York', '$90,000.00'), ('Boston', '$70,000.00'), ('Ann Arbor', '$84,000.00'), ('Austin', '$71,500.00'), ('Dallas', '$72,000.00'), ('Houston', '$75,300.00'), ('Denver', '$84,500.00'), ('Chicago', '$86,000.00'), ('Seattle', '$94,900.00'), ('Columbia', '$63,200.00'), ('Virginia Beach', '$84,000.00'), ('Charlotte', '$74,700.00'), ('Nashville', '$84,000.00'), ('Cincinnati', '$73,600.00'), ('Louisville', '$71,800.00'), ('Minneapolis', '$84,000.00'), ('Jacksonville', '$72,300.00'), ('Miami', '$76,200.00'), ('Atlanta', '$84,500.00'), ('Newport News', '$84,000.00'), ('Phoenix', '$75,800.00')]\n"
     ]
    }
   ],
   "source": [
    "#STATISTICIAN AVERAGE SALARY:\n",
    "\n",
    "import csv\n",
    "\n",
    "file_name = \"income.csv\"\n",
    "try:\n",
    "    csvfile = open(file_name, 'rt')\n",
    "except:\n",
    "    print(\"File not found\")\n",
    "csvReader = csv.reader(csvfile, delimiter=\",\")\n",
    "d = dict()\n",
    "l =  list()\n",
    "for row in csvReader:\n",
    "    d[row[2]] = row[0]\n",
    "    d[row[7]] = row[1]\n",
    "    l.append((row[2], row[11]))\n",
    "#print(d)\n",
    "print(l)"
   ]
  },
  {
   "cell_type": "code",
   "execution_count": 35,
   "metadata": {},
   "outputs": [
    {
     "name": "stdout",
     "output_type": "stream",
     "text": [
      "[('City', 'Data & Analytics Manager Average Salary'), ('San Francisco', '$130,000.00'), ('San Diego', '$122,000.00'), ('Los Angeles', '$107,000.00'), ('New York', '$108,000.00'), ('Boston', '$104,000.00'), ('Ann Arbor', '$99,000.00'), ('Austin', '$92,100.00'), ('Dallas', '$105,000.00'), ('Houston', '$110,000.00'), ('Denver', '$100,000.00'), ('Chicago', '$104,000.00'), ('Seattle', '$115,000.00'), ('Columbia', '$91,200.00'), ('Virginia Beach', '$107,700.00'), ('Charlotte', '$120,000.00'), ('Nashville', '$107,000.00'), ('Cincinnati', '$97,500.00'), ('Louisville', '$96,800.00'), ('Minneapolis', '$117,000.00'), ('Jacksonville', '$109,000.00'), ('Miami', '$93,900.00'), ('Atlanta', '$100,000.00'), ('Newport News', '$107,000.00'), ('Phoenix', '$102,000.00')]\n"
     ]
    }
   ],
   "source": [
    "#DATA ANALYTICS MANAGER AVERAGE SALARY:\n",
    "\n",
    "import csv\n",
    "\n",
    "file_name = \"income.csv\"\n",
    "try:\n",
    "    csvfile = open(file_name, 'rt')\n",
    "except:\n",
    "    print(\"File not found\")\n",
    "csvReader = csv.reader(csvfile, delimiter=\",\")\n",
    "d = dict()\n",
    "l =  list()\n",
    "for row in csvReader:\n",
    "    d[row[2]] = row[0]\n",
    "    d[row[7]] = row[1]\n",
    "    l.append((row[2], row[12]))\n",
    "#print(d)\n",
    "print(l)"
   ]
  },
  {
   "cell_type": "code",
   "execution_count": null,
   "metadata": {},
   "outputs": [],
   "source": []
  }
 ],
 "metadata": {
  "kernelspec": {
   "display_name": "Python 3",
   "language": "python",
   "name": "python3"
  },
  "language_info": {
   "codemirror_mode": {
    "name": "ipython",
    "version": 3
   },
   "file_extension": ".py",
   "mimetype": "text/x-python",
   "name": "python",
   "nbconvert_exporter": "python",
   "pygments_lexer": "ipython3",
   "version": "3.6.8"
  }
 },
 "nbformat": 4,
 "nbformat_minor": 2
}
