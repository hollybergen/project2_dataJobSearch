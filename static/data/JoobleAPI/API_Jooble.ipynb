{
 "cells": [
  {
   "cell_type": "code",
   "execution_count": 1,
   "metadata": {},
   "outputs": [],
   "source": [
    "import requests\n",
    "import json\n",
    "from pprint import pprint\n",
    "from citipy import citipy\n",
    "import random\n",
    "import pandas as pd\n",
    "import http.client\n"
   ]
  },
  {
   "cell_type": "code",
   "execution_count": 2,
   "metadata": {},
   "outputs": [],
   "source": [
    "host = 'us.jooble.org'\n",
    "key = 'ef5f725b-e3fc-4924-bbdb-26f04c838c96'"
   ]
  },
  {
   "cell_type": "code",
   "execution_count": 5,
   "metadata": {},
   "outputs": [
    {
     "name": "stdout",
     "output_type": "stream",
     "text": [
      "200 OK\n",
      "b'{\"totalCount\":19077,\"jobs\":[{\"title\":\"Data Engineer\",\"location\":\"Pasadena, CA\",\"snippet\":\"&nbsp;...<b>Data Engineer-</b> Greater Los Angeles  Remote- 10% Travel \\\\r\\\\n Our Client is currently seeking a Data Engineer, you will be implementing solutions and collaborate with the team to ensure best practices to migrate their data. You will use your knowledge of building data pipelines...&nbsp;\",\"salary\":\"\",\"source\":\"Careerbuilder.com\",\"type\":\"Full-time\",\"link\":\"https://us.jooble.org/away/4431161598157908890?p=1&pos=1&cid=380&ckey=data+engineer&age=89&relb=175&brelb=115&scr=1212,18954347826&bscr=796,5817&aq=18942397\",\"company\":\"Jefferson Frank\",\"updated\":\"2019-05-17T02:37:44.1203365+03:00\",\"id\":4431161598157908890},{\"title\":\"Data Engineer\",\"location\":\"El Segundo, CA\",\"snippet\":\"&nbsp;...Ref ID: 00320-9501946467\\\\r\\\\n Classification:  Database Developer \\\\r\\\\n Compensation: $100,000.00 to $115,000.00 per year \\\\r\\\\n\\\\r\\\\n Role:  <b>Data Engineer </b>\\\\r\\\\n  Salary:  $100,000-$115,000\\\\r\\\\n  Employment Type:  Full Time \\\\r\\\\n  Benefits:  M/D/V, 401K, Equity (after 12 months)\\\\r\\\\n  Top Requirements...&nbsp;\",\"salary\":\"$100k - $115k\",\"source\":\"Careerbuilder.com\",\"type\":\"Full-time\",\"link\":\"https://us.jooble.org/away/-5324946267854978206?p=1&pos=2&cid=380&ckey=data+engineer&age=137&relb=175&brelb=115&scr=1190,42152173913&bscr=782,277&aq=18942397\",\"company\":\"Robert Half Technology\",\"updated\":\"2019-05-15T01:50:36.0499396+03:00\",\"id\":-5324946267854978206},{\"title\":\"Data Engineer\",\"location\":\"Los Angeles, CA\",\"snippet\":\"&nbsp;...Corporation, a Fortune 500 company.\\xc2\\xa0\\\\r\\\\n Our rapidly expanding Internet group in Culver City (Silicon Beach) is seeking to hire a <b>data engineer </b>with both conceptual and hands-on experience working in an Amazon Web Services Big Data environment with structured and semi-structured...&nbsp;\",\"salary\":\"\",\"source\":\"ziprecruiter.com\",\"type\":\"\",\"link\":\"https://us.jooble.org/away/8771400778857879686?p=1&pos=3&cid=380&ckey=data+engineer&age=283&relb=175&brelb=115&scr=1166,14293478261&bscr=766,3225&aq=18942397\",\"company\":\"Globe Life And Accident Insurance Company\",\"updated\":\"2019-05-09T00:00:00.0000000\",\"id\":8771400778857879686},{\"title\":\"Data Engineer\",\"location\":\"Los Angeles, CA\",\"snippet\":\"&nbsp;...Email Your Resum\\xc3\\xa9]*** Are you passionate about high performance Big <b>Data </b>implementations? Do you have the ability to come up with your...&nbsp;&nbsp;...data solutions? Then look no further! We are looking for a Data <b>Engineer </b>for a well-established market research firm in Beverly Hills, CA...&nbsp;\",\"salary\":\"$100k - $115k\",\"source\":\"Careerbuilder.com\",\"type\":\"Full-time\",\"link\":\"https://us.jooble.org/away/-5660777701718813346?p=1&pos=4&cid=380&ckey=data+engineer&age=377&relb=175&brelb=115&scr=1151,02689130435&bscr=756,3891&aq=18942397\",\"company\":\"Robert Half Technology\",\"updated\":\"2019-05-05T02:21:12.2865101+03:00\",\"id\":-5660777701718813346},{\"title\":\"AWS Data Engineer\",\"location\":\"Torrance, CA\",\"snippet\":\"&nbsp;...AWS <b>Data Engineer </b>- Torrance, CA - $160k Salary \\\\r\\\\n Hot Data Engineer role you don\\'t want to miss out in!!\\\\r\\\\n Job Description: \\\\r\\\\n You will be responsible for expanding and optimizing our data and data architecture for cross-functional teams. You will be building a pipeline...&nbsp;\",\"salary\":\"$160k\",\"source\":\"Careerbuilder.com\",\"type\":\"Full-time\",\"link\":\"https://us.jooble.org/away/1762046505039737346?p=1&pos=5&cid=380&ckey=data+engineer&age=65&relb=175&brelb=115&scr=1136,69591304348&bscr=746,9716&aq=18942397\",\"company\":\"Jefferson Frank\",\"updated\":\"2019-05-18T01:51:16.6518581+03:00\",\"id\":1762046505039737346},{\"title\":\"AWS Data Engineer\",\"location\":\"Torrance, CA\",\"snippet\":\"&nbsp;...AWS <b>Data Engineer </b>- Torrance, CA \\\\r\\\\n Job Description: \\\\r\\\\n This position will provide overall technical solutions and design for Data Warehouse. Areas of responsibility include overall technical solutions, Data Analysis, Data Architecture, ETL Design, development, reporting...&nbsp;\",\"salary\":\"$175k\",\"source\":\"Careerbuilder.com\",\"type\":\"Temporary\",\"link\":\"https://us.jooble.org/away/-909836575134344426?p=1&pos=6&cid=380&ckey=data+engineer&age=65&relb=175&brelb=115&scr=1136,69037391304&bscr=746,96796&aq=18942397\",\"company\":\"Jefferson Frank\",\"updated\":\"2019-05-18T01:47:16.6821722+03:00\",\"id\":-909836575134344426},{\"title\":\"Data Engineer\",\"location\":\"Glendale, CA\",\"snippet\":\"&nbsp;...<b>Data Engineer </b>-Salary: $140,000 Glendale, CA \\\\r\\\\n \\\\r\\\\n Our client is seeking a highly skilled Data Engineer. This Position will be 100% on site. As a Data Engineer, you will be implementing solutions for our client. You will collaborate with the team to ensure best practices...&nbsp;\",\"salary\":\"$140k\",\"source\":\"Careerbuilder.com\",\"type\":\"Full-time\",\"link\":\"https://us.jooble.org/away/-9199240080907934994?p=1&pos=7&cid=380&ckey=data+engineer&age=450&relb=175&brelb=115&scr=1132,94360869565&bscr=744,5058&aq=18942397\",\"company\":\"Jefferson Frank\",\"updated\":\"2019-05-02T01:24:48.2919250+03:00\",\"id\":-9199240080907934994},{\"title\":\"Data Engineer (JS13812)\",\"location\":\"Glendale, CA\",\"snippet\":\"&nbsp;...Job Description \\\\r\\\\n Seeking a <b>Data Engineer </b>for a contract opportunity in Glendale, CA. The contract length is 11+ months. \\\\r\\\\n Basic Qualifications \\\\r\\\\n You should have some mastery of: \\\\r\\\\n A range of JVM/CLR languages, as well as scripting/systems languages like Python...&nbsp;\",\"salary\":\"\",\"source\":\"ziprecruiter.com\",\"type\":\"\",\"link\":\"https://us.jooble.org/away/-880760161948792798?p=1&pos=8&cid=380&ckey=data+engineer&age=91&relb=175&brelb=115&scr=1130,15480869565&bscr=742,67316&aq=18942397\",\"company\":\"Tentek, Inc.\",\"updated\":\"2019-05-17T00:00:00.0000000\",\"id\":-880760161948792798},{\"title\":\"Data Engineer\",\"location\":\"Pasadena, CA\",\"snippet\":\"&nbsp;...<b>Data Engineer </b>-Salary: $100,000 Pasadena, CA \\\\r\\\\n \\\\r\\\\n Seeking a Data Engineer who can implement solutions for our client as they are currently partnered with AWS, Azure, and Docker. They are a start up company and are expanding fast. This client is looking for someone who...&nbsp;\",\"salary\":\"$100k\",\"source\":\"Careerbuilder.com\",\"type\":\"Full-time\",\"link\":\"https://us.jooble.org/away/-1984341361859011821?p=1&pos=9&cid=380&ckey=data+engineer&age=498&relb=175&brelb=115&scr=1127,69665217391&bscr=741,0578&aq=18942397\",\"company\":\"Jefferson Frank\",\"updated\":\"2019-04-30T01:17:59.1455349+03:00\",\"id\":-1984341361859011821},{\"title\":\"Data Infrastructure Engineer\",\"location\":\"Los Angeles, CA\",\"snippet\":\"&nbsp;...identify novel genetic factors that may influence a pet\\'s health. We are pet lovers, <b>engineers,</b> scientists, and entrepreneurs. \\\\r\\\\n Role Description: \\\\r\\\\n We are currently looking to hire a  <b>Data </b>Infrastructure Engineer.  You will work on building out a data infrastructure on...&nbsp;\",\"salary\":\"\",\"source\":\"ziprecruiter.com\",\"type\":\"\",\"link\":\"https://us.jooble.org/away/5500896798640995580?p=1&pos=10&cid=380&ckey=data+engineer&age=283&relb=175&brelb=115&scr=1112,00075&bscr=730,74335&aq=18942397\",\"company\":\"Basepaws\",\"updated\":\"2019-05-09T00:00:00.0000000\",\"id\":5500896798640995580},{\"title\":\"Cloud Data Engineer\",\"location\":\"Long Beach, CA\",\"snippet\":\"&nbsp;...Ref ID: 00460-0010972011\\\\r\\\\n Classification:  Network <b>Engineer </b>\\\\r\\\\n Compensation: $45.13 to $60.00 per hour \\\\r\\\\n*Cloud * Azure * T-SQL * Engineer...&nbsp;&nbsp;...My client, a Medical firm in Long Beach is looking for a Cloud <b>Data </b>Engineer to join their IT team. Ideal candidate should have at...&nbsp;\",\"salary\":\"$45.13 - $60 per hour\",\"source\":\"Careerbuilder.com\",\"type\":\"Temporary\",\"link\":\"https://us.jooble.org/away/-454257442985514624?p=1&pos=11&cid=380&ckey=data+engineer&age=305&relb=175&brelb=115&scr=1106,05969782609&bscr=726,83923&aq=18942397\",\"company\":\"Robert Half Technology\",\"updated\":\"2019-05-08T02:34:45.8900000\",\"id\":-454257442985514624},{\"title\":\"Cloud Data Engineer\",\"location\":\"Long Beach, CA\",\"snippet\":\"&nbsp;...Ref ID: 00460-0010972118\\\\r\\\\n Classification:  Network <b>Engineer </b>\\\\r\\\\n Compensation: $52.25 to $60.50 per hour \\\\r\\\\n Robert Half Technology is looking for a Cloud <b>Data </b>Engineer for a contract to full-time opportunity. This candidate will be expected to build the data pipelines and...&nbsp;\",\"salary\":\"$52.25 - $60.5 per hour\",\"source\":\"Careerbuilder.com\",\"type\":\"Temporary\",\"link\":\"https://us.jooble.org/away/-9168157497387344674?p=1&pos=12&cid=380&ckey=data+engineer&age=306&relb=175&brelb=115&scr=1103,22526086957&bscr=724,9766&aq=18942397\",\"company\":\"Robert Half Technology\",\"updated\":\"2019-05-08T01:13:55.8053524+03:00\",\"id\":-9168157497387344674},{\"title\":\"Data Warehouse Engineer\",\"location\":\"El Segundo, CA\",\"snippet\":\"&nbsp;...0320-9501936223\\\\r\\\\n Classification:  Account Executive/Staffing Manager \\\\r\\\\n Compensation: $75,000.00 to $95,000.00 per year \\\\r\\\\n\\\\r\\\\n\\\\r\\\\n <b>Data Engineer </b>Analyst \\\\r\\\\n  Location: El Segundo, CA nbsp; \\\\r\\\\n  Target Salary: $75-95K With Bonus nbsp; \\\\r\\\\n  Benefits: M/D/V + Additional Perks/Benefits...&nbsp;\",\"salary\":\"$75k - $95k\",\"source\":\"Careerbuilder.com\",\"type\":\"Full-time\",\"link\":\"https://us.jooble.org/away/5303472589384795057?p=1&pos=13&cid=380&ckey=data+engineer&age=305&relb=175&brelb=115&scr=1098,66314782609&bscr=721,97864&aq=18942397\",\"company\":\"Robert Half Technology\",\"updated\":\"2019-05-08T01:46:54.5673107+03:00\",\"id\":5303472589384795057},{\"title\":\"Cloud Data Engineer\",\"location\":\"Long Beach, CA\",\"snippet\":\"&nbsp;...ID: 04815-9501930194\\\\r\\\\n Classification:  Database Analyst \\\\r\\\\n Compensation:  DOE \\\\r\\\\n Robert Half Technology is looking for a Cloud <b>Data Engineer </b>with technical expertise working with Data Modeling, Azure Data Factory, and Hadoop. This Cloud Data Engineer role is a long term...&nbsp;\",\"salary\":\"\",\"source\":\"Careerbuilder.com\",\"type\":\"Full-time\",\"link\":\"https://us.jooble.org/away/-8811513695725936287?p=1&pos=14&cid=380&ckey=data+engineer&age=377&relb=175&brelb=115&scr=1088,30678478261&bscr=715,17303&aq=18942397\",\"company\":\"Robert Half Technology\",\"updated\":\"2019-05-05T02:29:29.2370000\",\"id\":-8811513695725936287},{\"title\":\"Junior Data Engineer\",\"location\":\"Los Angeles, CA\",\"snippet\":\"&nbsp;...Purpose: \\\\r\\\\n This role will be responsible for expanding and optimizing our <b>data </b>and data pipeline architecture, as well as optimizing data flow and collection for cross functional teams. The Data <b>Engineer </b>is an experienced data pipeline and data source builder and data...&nbsp;\",\"salary\":\"\",\"source\":\"ziprecruiter.com\",\"type\":\"\",\"link\":\"https://us.jooble.org/away/8757142948213724288?p=1&pos=15&cid=380&ckey=data+engineer&age=427&relb=175&brelb=115&scr=1082,79804347826&bscr=711,553&aq=18942397\",\"company\":\"Creative Channel Services\",\"updated\":\"2019-05-03T00:00:00.0000000\",\"id\":8757142948213724288},{\"title\":\"Data Engineer\",\"location\":\"El Segundo, CA\",\"snippet\":\"&nbsp;...Ref ID: 00320-0010951441\\\\r\\\\n Classification:  Database Analyst \\\\r\\\\n Compensation: $80,000.00 to $105,000.00 per year \\\\r\\\\n\\\\r\\\\n Are you a <b>Data Engineer </b>with at least 2 years of professional experience looking to join a dynamic team in the entertainment space? We are looking for a...&nbsp;\",\"salary\":\"$80k - $105k\",\"source\":\"Careerbuilder.com\",\"type\":\"Full-time\",\"link\":\"https://us.jooble.org/away/-6061474910452634500?p=1&pos=16&cid=380&ckey=data+engineer&age=713&relb=175&brelb=115&scr=1074,2772173913&bscr=705,9536&aq=18942397\",\"company\":\"Robert Half Technology\",\"updated\":\"2019-04-21T02:18:21.2800000\",\"id\":-6061474910452634500},{\"title\":\"Real-Time Data Engineer\",\"location\":\"Los Angeles, CA\",\"snippet\":\"&nbsp;...Jefferson Frank is looking to contract a highly experienced <b>Data Engineer </b>who has experience working with Amazon Kinesis to assist our client in thier cutting edge Live Streaming project. If you are interested in working with the latest and greatest bleeding edge technologies...&nbsp;\",\"salary\":\"\",\"source\":\"Careerbuilder.com\",\"type\":\"Temporary\",\"link\":\"https://us.jooble.org/away/5365399518082827610?p=1&pos=17&cid=380&ckey=data+engineer&age=65&relb=175&brelb=115&scr=1068,84217391304&bscr=702,382&aq=18942397\",\"company\":\"Jefferson Frank\",\"updated\":\"2019-05-18T02:29:02.2429526+03:00\",\"id\":5365399518082827610},{\"title\":\"Backup / Data Protection Engineer\",\"location\":\"Long Beach, CA\",\"snippet\":\"&nbsp;...holidays, and more). Please join our team of bright and talented individuals!\\\\r\\\\n\\\\r\\\\n We currently seek a full-time Backup / <b>Data </b>Protection <b>Engineer </b>in our Long Beach, California location. \\\\r\\\\n\\\\r\\\\n When applying for this position, please reference Backup / Data Protection Engineer...&nbsp;\",\"salary\":\"\",\"source\":\"Careerbuilder.com\",\"type\":\"Full-time\",\"link\":\"https://us.jooble.org/away/2675383914819173049?p=1&pos=18&cid=380&ckey=data+engineer&age=90&relb=175&brelb=115&scr=1065,38341304348&bscr=700,1091&aq=18942397\",\"company\":\"Vanguard Logistics Services (USA) Inc.\",\"updated\":\"2019-05-17T01:20:20.2103973+03:00\",\"id\":2675383914819173049},{\"title\":\"AWS Big Data Engineer\",\"location\":\"Los Angeles, CA\",\"snippet\":\"&nbsp;...Jefferson Frank is looking for a <b>Data Engineer </b>to build and operate data pipelines and warehouses. This person will work hand in hand with software development, QA, and product teams in order to deliver high quality applications and software. This is a great opportunity...&nbsp;\",\"salary\":\"\",\"source\":\"Careerbuilder.com\",\"type\":\"Temporary\",\"link\":\"https://us.jooble.org/away/-1690283102617349492?p=1&pos=19&cid=380&ckey=data+engineer&age=66&relb=175&brelb=115&scr=1063,99917826087&bscr=699,19946&aq=18942397\",\"company\":\"Jefferson Frank\",\"updated\":\"2019-05-18T01:40:00.8150676+03:00\",\"id\":-1690283102617349492},{\"title\":\"Data Engineer\",\"location\":\"Burbank, CA\",\"snippet\":\"Job Functions Work closely with <b>data </b>experts to build and maintain KPI data dictionary, metadata, data standards, and ensure adherence...&nbsp;&nbsp;...as well as equivalent work experience. Minimum 5 years of data <b>engineering,</b> data modeling or data architecture experience with a focus on...&nbsp;\",\"salary\":\"\",\"source\":\"appcast.io\",\"type\":\"Full-time\",\"link\":\"https://us.jooble.org/away/5788780920206953831?p=1&pos=20&cid=380&ckey=data+engineer&age=163&relb=155&brelb=115&scr=1056,02248043478&bscr=783,50055&aq=18942397\",\"company\":\"DVBE Connect\",\"updated\":\"2019-05-14T00:00:00.0000000\",\"id\":5788780920206953831}]}'\n"
     ]
    }
   ],
   "source": [
    "connection = http.client.HTTPConnection(host)\n",
    "#request headers\n",
    "headers = {\"Content-type\": \"application/x-www-form-urlencoded\"}\n",
    "#json query\n",
    "body = '{ \"keywords\": \"data engineer\", \"location\": \"Los Angeles\"}'\n",
    "connection.request('POST','/api/' + key, body, headers)\n",
    "response = connection.getresponse()\n",
    "print(response.status, response.reason)\n",
    "print(response.read())"
   ]
  },
  {
   "cell_type": "code",
   "execution_count": 15,
   "metadata": {},
   "outputs": [],
   "source": [
    "joobleSearchRadius = 1000"
   ]
  },
  {
   "cell_type": "code",
   "execution_count": 16,
   "metadata": {},
   "outputs": [],
   "source": [
    "searchTerm = \"Data Engineer\""
   ]
  },
  {
   "cell_type": "code",
   "execution_count": 17,
   "metadata": {},
   "outputs": [],
   "source": [
    " jobData = {\n",
    "        'title': [],\n",
    "        'location': [],\n",
    "        'salary': [],\n",
    "        'source': [],\n",
    "        'company': [],\n",
    "        'id' : [],\n",
    "    }"
   ]
  },
  {
   "cell_type": "code",
   "execution_count": null,
   "metadata": {},
   "outputs": [],
   "source": []
  }
 ],
 "metadata": {
  "kernelspec": {
   "display_name": "Python 3",
   "language": "python",
   "name": "python3"
  },
  "language_info": {
   "codemirror_mode": {
    "name": "ipython",
    "version": 3
   },
   "file_extension": ".py",
   "mimetype": "text/x-python",
   "name": "python",
   "nbconvert_exporter": "python",
   "pygments_lexer": "ipython3",
   "version": "3.6.8"
  }
 },
 "nbformat": 4,
 "nbformat_minor": 2
}
